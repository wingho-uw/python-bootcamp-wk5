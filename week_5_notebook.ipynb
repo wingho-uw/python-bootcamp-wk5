{
 "cells": [
  {
   "cell_type": "markdown",
   "id": "c2f4af50-37b1-4ccc-b29b-6d2d3db0ed37",
   "metadata": {},
   "source": [
    "Oceanography python bootcamp, Winter 2025\n",
    "# Week 5 notebook"
   ]
  },
  {
   "cell_type": "code",
   "execution_count": null,
   "id": "c8434a62-bf8b-48be-8ed6-f4f4d6f8051e",
   "metadata": {},
   "outputs": [],
   "source": [
    "import os\n",
    "import pytz\n",
    "import numpy as np\n",
    "import pandas as pd\n",
    "import xarray as xr\n",
    "import matplotlib as mpl\n",
    "import matplotlib.pyplot as plt\n",
    "import matplotlib.dates as mdates\n",
    "import matplotlib.ticker as mticker\n",
    "import cmocean.cm as cmo\n",
    "import cartopy.crs as ccrs\n",
    "import cartopy.feature as cfeature\n",
    "import cartopy.mpl.gridliner as cmgrid\n",
    "\n",
    "pd.set_option(\"mode.copy_on_write\", True)"
   ]
  },
  {
   "cell_type": "markdown",
   "id": "b22563c0-c35c-471e-84bc-6f0b5a551bab",
   "metadata": {
    "jp-MarkdownHeadingCollapsed": true
   },
   "source": [
    "## Navigating filesystem"
   ]
  },
  {
   "cell_type": "code",
   "execution_count": null,
   "id": "21e94e25-e5f8-4334-acfd-39cc0cf95fd3",
   "metadata": {},
   "outputs": [],
   "source": [
    "# Get and print the current directory\n",
    "cwd = os.getcwd()\n",
    "print(cwd)"
   ]
  },
  {
   "cell_type": "code",
   "execution_count": null,
   "id": "1e3894da-f324-4789-a1bd-beec28edcc8e",
   "metadata": {},
   "outputs": [],
   "source": [
    "# list the content under the working directory\n",
    "os.listdir()"
   ]
  },
  {
   "cell_type": "code",
   "execution_count": null,
   "id": "dd3cb6fc-fd66-4e8a-b555-5f3b0e5c83d6",
   "metadata": {},
   "outputs": [],
   "source": [
    "# list the FILES under the working directory\n",
    "files = []\n",
    "for sub in os.listdir():\n",
    "    if os.path.isfile(sub):\n",
    "        files.append(sub)\n",
    "files"
   ]
  },
  {
   "cell_type": "code",
   "execution_count": null,
   "id": "b2d09c53-b2a7-4903-9a39-2fa0044d85fa",
   "metadata": {},
   "outputs": [],
   "source": [
    "# check if a file exists (useful check before write!)\n",
    "file = \"crazy.txt\"\n",
    "os.path.exists(file)"
   ]
  },
  {
   "cell_type": "markdown",
   "id": "710caa8b-66df-4d48-af09-43c11a7361c4",
   "metadata": {
    "jp-MarkdownHeadingCollapsed": true
   },
   "source": [
    "## Loading and inspecting data in pandas"
   ]
  },
  {
   "cell_type": "markdown",
   "id": "f21f0795-2554-46e1-9d6e-263b728f8fa8",
   "metadata": {
    "jp-MarkdownHeadingCollapsed": true
   },
   "source": [
    "### Reading data"
   ]
  },
  {
   "cell_type": "markdown",
   "id": "2f831fef-ea19-4f27-9d84-71c89ca4dd72",
   "metadata": {},
   "source": [
    "Data obtained from https://www.ncdc.noaa.gov/cdo-web/datasets/GHCND/stations/GHCND:USW00024233/detail"
   ]
  },
  {
   "cell_type": "code",
   "execution_count": null,
   "id": "cc8c7337-3bc7-40fb-a4a9-655ba894ca68",
   "metadata": {},
   "outputs": [],
   "source": [
    "# reading offline data\n",
    "# interpret the \"DATE\" column as date\n",
    "df_seatac = pd.read_csv(\"data/NOAA_SeaTac_weather_2024.csv\", parse_dates = [\"DATE\"]).convert_dtypes()"
   ]
  },
  {
   "cell_type": "code",
   "execution_count": null,
   "id": "e9074197-4fca-4218-8575-f51cce05b0b5",
   "metadata": {},
   "outputs": [],
   "source": [
    "df_seatac"
   ]
  },
  {
   "cell_type": "code",
   "execution_count": null,
   "id": "103f6ba4-a0f6-48fd-a7dd-7f55f2111b98",
   "metadata": {},
   "outputs": [],
   "source": [
    "# making use of the usecols and index_col arguments\n",
    "\n",
    "df_seatac2 = pd.read_csv(\n",
    "    \"data/NOAA_SeaTac_weather_2024.csv\", \n",
    "    usecols = [\"DATE\", \"TAVG\", \"TMIN\", \"TMAX\"],\n",
    "    index_col= \"DATE\",\n",
    "    parse_dates = [\"DATE\"]\n",
    ").convert_dtypes()"
   ]
  },
  {
   "cell_type": "code",
   "execution_count": null,
   "id": "eaa5617d-efa6-422d-8c3a-8a4ff11a40fc",
   "metadata": {},
   "outputs": [],
   "source": [
    "df_seatac2"
   ]
  },
  {
   "cell_type": "markdown",
   "id": "51b862f1-15bd-4891-b245-d396d51e22ee",
   "metadata": {},
   "source": [
    "Data obtained from https://github.com/allisonhorst/palmerpenguins"
   ]
  },
  {
   "cell_type": "code",
   "execution_count": null,
   "id": "6d969a3c-3b01-42d1-8469-aa97824cec20",
   "metadata": {},
   "outputs": [],
   "source": [
    "# reading online data\n",
    "# set Year as an index, skip the top row\n",
    "df_penguins = pd.read_csv(\n",
    "    \"https://github.com/allisonhorst/palmerpenguins/blob/main/inst/extdata/penguins.csv?raw=true\"\n",
    ").convert_dtypes()"
   ]
  },
  {
   "cell_type": "code",
   "execution_count": null,
   "id": "fd63877b-d242-4a4c-91a5-142f69dcb570",
   "metadata": {},
   "outputs": [],
   "source": [
    "df_penguins"
   ]
  },
  {
   "cell_type": "markdown",
   "id": "db9846d5-2f13-4cc3-ad94-f4b558d53fd2",
   "metadata": {
    "jp-MarkdownHeadingCollapsed": true
   },
   "source": [
    "### Inspecting data"
   ]
  },
  {
   "cell_type": "code",
   "execution_count": null,
   "id": "38327291-c167-495a-a3e6-9ac16e4ff511",
   "metadata": {},
   "outputs": [],
   "source": [
    "df_seatac.info()"
   ]
  },
  {
   "cell_type": "code",
   "execution_count": null,
   "id": "0439f85b-b72b-40da-8472-343e7b48b6b6",
   "metadata": {},
   "outputs": [],
   "source": [
    "df_penguins.info()"
   ]
  },
  {
   "cell_type": "code",
   "execution_count": null,
   "id": "4e7bdd26-3036-4155-acac-15ded7e5e7aa",
   "metadata": {},
   "outputs": [],
   "source": [
    "# first few rows of the dataframe\n",
    "# also consider using df.tail()\n",
    "df_seatac.head()"
   ]
  },
  {
   "cell_type": "code",
   "execution_count": null,
   "id": "f53d0071-9c75-4106-8c04-a9b5581f9c29",
   "metadata": {},
   "outputs": [],
   "source": [
    "# random sample from the dataframe\n",
    "df_seatac.sample(5)"
   ]
  },
  {
   "cell_type": "markdown",
   "id": "781b19ca-4c79-4056-90ae-768115d6accc",
   "metadata": {
    "jp-MarkdownHeadingCollapsed": true
   },
   "source": [
    "### Extracting parts of the DataFrame"
   ]
  },
  {
   "cell_type": "code",
   "execution_count": null,
   "id": "0151199e-5b83-440d-937e-16e5f0eb17ee",
   "metadata": {},
   "outputs": [],
   "source": [
    "# get the Series of a single column of data\n",
    "df_seatac[\"DATE\"]"
   ]
  },
  {
   "cell_type": "code",
   "execution_count": null,
   "id": "6e1305d7-a605-4d56-8400-44fefdafda3e",
   "metadata": {},
   "outputs": [],
   "source": [
    "# Get the collection of columns\n",
    "df_seatac.columns"
   ]
  },
  {
   "cell_type": "code",
   "execution_count": null,
   "id": "e5910ad1-7b9c-44c4-9e81-677f5f569ce7",
   "metadata": {},
   "outputs": [],
   "source": [
    "df_seatac.index"
   ]
  },
  {
   "cell_type": "code",
   "execution_count": null,
   "id": "dfbe50a9-491c-4299-9af7-ed6235073228",
   "metadata": {},
   "outputs": [],
   "source": [
    "df_seatac.index.values"
   ]
  },
  {
   "cell_type": "markdown",
   "id": "35c7b30e-fe0d-4f64-a4a1-0413c05d4a41",
   "metadata": {},
   "source": [
    "----\n",
    "\n",
    "_**Exercise #2**_: Loading and inspecting data in pandas\n",
    "\n",
    "+ Download the Seattle water levels data for yesterday from [https://tidesandcurrents.noaa.gov/waterlevels.html?id=9447130](https://tidesandcurrents.noaa.gov/waterlevels.html?id=9447130) as a csv file\n",
    "+ Place the csv file in a convenient place and load it using pandas, include all but the verified column, and assign the resulting DataFrame to the variable `df_tides`\n",
    "+ Display 5 random rows from `df_tides`\n",
    "+ Find the number of rows in `df_tides`"
   ]
  },
  {
   "cell_type": "code",
   "execution_count": null,
   "id": "604d4d16-83fd-4296-937a-3d9e30693c25",
   "metadata": {},
   "outputs": [],
   "source": [
    "# part 2: load the csv file into a pandas DataFrame"
   ]
  },
  {
   "cell_type": "code",
   "execution_count": null,
   "id": "d42f95be-3ac8-4175-9c2b-2f9c585e6b98",
   "metadata": {},
   "outputs": [],
   "source": [
    "# part 3: display 5 random rows from df_tides"
   ]
  },
  {
   "cell_type": "code",
   "execution_count": null,
   "id": "59124436-4449-4a9e-aca8-1bb00e8ac4f9",
   "metadata": {},
   "outputs": [],
   "source": [
    "# part 4: find the number of rows in df_tides"
   ]
  },
  {
   "cell_type": "markdown",
   "id": "d524cf7d-d320-4026-b6ee-74c82bb5a92c",
   "metadata": {
    "jp-MarkdownHeadingCollapsed": true
   },
   "source": [
    "## Data wrangling in pandas"
   ]
  },
  {
   "cell_type": "markdown",
   "id": "5299fd93-25ca-409c-ae15-bd3ee241ae87",
   "metadata": {
    "jp-MarkdownHeadingCollapsed": true
   },
   "source": [
    "### .loc[] and .iloc[]"
   ]
  },
  {
   "cell_type": "code",
   "execution_count": null,
   "id": "365e0c3c-2a97-4112-8028-b3633cad6948",
   "metadata": {},
   "outputs": [],
   "source": [
    "# extract a subset of columns\n",
    "# the first \":\" indicates that we'll take all rows\n",
    "\n",
    "df_subset = df_seatac.loc[:, [\"DATE\", \"AWND\", \"PRCP\", \"TAVG\", \"TMAX\", \"TMIN\"]]\n",
    "display(df_subset)"
   ]
  },
  {
   "cell_type": "code",
   "execution_count": null,
   "id": "5d9bb8a2-aec7-4e44-b4ca-ccec44be7615",
   "metadata": {},
   "outputs": [],
   "source": [
    "# You can use : to indicate range of columns\n",
    "\n",
    "df_subset = df_seatac.loc[:, \"TAVG\":\"TMIN\"]\n",
    "display(df_subset)"
   ]
  },
  {
   "cell_type": "code",
   "execution_count": null,
   "id": "2175fe44-1e4c-48f6-9d4f-d3378ecbcd2a",
   "metadata": {},
   "outputs": [],
   "source": [
    "# select rows by Boolean condition\n",
    "# NOTE the implicit conversion of string to date\n",
    "\n",
    "df_subset = df_seatac.loc[df_seatac[\"DATE\"] >= \"2024-06-01\", :]\n",
    "df_subset.head()"
   ]
  },
  {
   "cell_type": "code",
   "execution_count": null,
   "id": "a118f25e-eaab-4889-8699-e7829fc956df",
   "metadata": {},
   "outputs": [],
   "source": [
    "# select row by position\n",
    "\n",
    "df_subset = df_seatac.iloc[:100, :]\n",
    "df_subset.tail()"
   ]
  },
  {
   "cell_type": "markdown",
   "id": "6f234e91-b9e2-4052-b76e-5a5d013a8912",
   "metadata": {
    "jp-MarkdownHeadingCollapsed": true
   },
   "source": [
    "### Additional column operations"
   ]
  },
  {
   "cell_type": "code",
   "execution_count": null,
   "id": "5814a743-b9d5-4b10-8494-6d273f04c32a",
   "metadata": {},
   "outputs": [],
   "source": [
    "# Assign new column (temperature range)\n",
    "# Note that this mutate (modify) the original dataframe\n",
    "\n",
    "df_seatac[\"TRNG\"] = df_seatac[\"TMAX\"] - df_seatac[\"TMIN\"]\n",
    "display(df_seatac)"
   ]
  },
  {
   "cell_type": "code",
   "execution_count": null,
   "id": "3149b093-c04a-4ef8-bbe5-4bbfbeec7b52",
   "metadata": {},
   "outputs": [],
   "source": [
    "# rename columns\n",
    "\n",
    "df_renamed = df_seatac.rename(columns={\"LATITUDE\": \"LAT\", \"LONGITUDE\": \"LON\"})\n",
    "df_renamed.sample(5)"
   ]
  },
  {
   "cell_type": "code",
   "execution_count": null,
   "id": "876d2b36-9337-4d90-a5b2-cf893a9450a7",
   "metadata": {},
   "outputs": [],
   "source": [
    "# Set Date as index\n",
    "\n",
    "df_dated = df_seatac.set_index(\"DATE\")\n",
    "df_dated.head(4)"
   ]
  },
  {
   "cell_type": "code",
   "execution_count": null,
   "id": "2517ba1c-2fd3-4e09-9ce7-53d038b311a6",
   "metadata": {},
   "outputs": [],
   "source": [
    "# Reset the index into a regular column\n",
    "# NOTE: to just \"throw away\" the index, use drop=True\n",
    "\n",
    "df_indexed = df_seatac.reset_index()\n",
    "display(df_indexed)"
   ]
  },
  {
   "cell_type": "markdown",
   "id": "4daa46e5-fae5-4b35-a003-d55935f1079c",
   "metadata": {
    "jp-MarkdownHeadingCollapsed": true
   },
   "source": [
    "### Additional row operations"
   ]
  },
  {
   "cell_type": "code",
   "execution_count": null,
   "id": "7c09eb17-15f4-4af7-92db-fac3667b7737",
   "metadata": {},
   "outputs": [],
   "source": [
    "# arrange data by increasing precipitations\n",
    "df_sorted = df_seatac.sort_values(\"PRCP\")\n",
    "display(df_sorted)"
   ]
  },
  {
   "cell_type": "markdown",
   "id": "6a55af60-63f2-4619-8321-696346729e5d",
   "metadata": {
    "jp-MarkdownHeadingCollapsed": true
   },
   "source": [
    "### Copy-on-write behaviors"
   ]
  },
  {
   "cell_type": "code",
   "execution_count": null,
   "id": "922d177f-bf72-4a11-ad1a-f1d89d3b4032",
   "metadata": {},
   "outputs": [],
   "source": [
    "# .value attributes fetch READ-ONLY numpy arrays\n",
    "df_seatac.index.values = 2"
   ]
  },
  {
   "cell_type": "code",
   "execution_count": null,
   "id": "3ba2d143-55c9-426c-a6be-e50e62291903",
   "metadata": {},
   "outputs": [],
   "source": [
    "# subsetting creates copy\n",
    "name = df_seatac[\"NAME\"]\n",
    "name.iloc[1] = \"SEATAC\"\n",
    "display(name.head())\n",
    "display(df_seatac.head())"
   ]
  },
  {
   "cell_type": "code",
   "execution_count": null,
   "id": "554ef8ba-b299-47c8-94f5-15cea775cc25",
   "metadata": {},
   "outputs": [],
   "source": [
    "# chainned assignment will not work\n",
    "df_seatac[\"DATE\"].iloc[1] = pd.Timestamp(\"2025-01-02\")"
   ]
  },
  {
   "cell_type": "markdown",
   "id": "95a88cba-55e2-40f0-b40d-c8c25c2d1e94",
   "metadata": {
    "jp-MarkdownHeadingCollapsed": true
   },
   "source": [
    "### Reduction (statistics) function in pandas"
   ]
  },
  {
   "cell_type": "code",
   "execution_count": null,
   "id": "cdcaad3f-22e9-4d69-b435-a3438f9d4381",
   "metadata": {},
   "outputs": [],
   "source": [
    "# summary statistics for numerical columns\n",
    "# Note the result is another DataFrame\n",
    "seatac_stat = df_seatac.loc[:, [\"PRCP\", \"TAVG\", \"TMAX\", \"TMIN\"]].describe()\n",
    "display(seatac_stat)"
   ]
  },
  {
   "cell_type": "code",
   "execution_count": null,
   "id": "a33c2c68-c0bd-4c16-bf2c-6e1a30beb369",
   "metadata": {},
   "outputs": [],
   "source": [
    "# summary statistics for text columns\n",
    "penguins_stat = df_penguins.loc[:, [\"species\", \"island\", \"sex\"]].describe()\n",
    "display(penguins_stat)"
   ]
  },
  {
   "cell_type": "code",
   "execution_count": null,
   "id": "2479d1ef-af85-4c00-a4c8-5eb88cb1f744",
   "metadata": {},
   "outputs": [],
   "source": [
    "# count the occurence of various values\n",
    "# the result is a multi-indexed pandas Series\n",
    "penguins_count = df_penguins.loc[:, [\"species\", \"island\", \"sex\"]].value_counts()\n",
    "display(penguins_count)"
   ]
  },
  {
   "cell_type": "markdown",
   "id": "a134e6c3-0019-4314-9c33-429f7d568c04",
   "metadata": {
    "jp-MarkdownHeadingCollapsed": true
   },
   "source": [
    "### Exercise 3"
   ]
  },
  {
   "cell_type": "markdown",
   "id": "0f06d7e6-e110-45ca-afdd-2c9c309a8ac3",
   "metadata": {},
   "source": [
    "1. Subset the SeaTac DataFrame to include only the 5 columns `\"DATE\"`, `\"PRCP\"`, `\"TAVG\"`, `\"TMAX\"` and `\"TMIN\"` (in that order)\n",
    "2. Retain only those rows whose precipitation (`\"PRCP\"`) is non-zero\n",
    "3. Find the average precipitation over the days when precipitation (`\"PRCP\"`) is non-zero. Find also the maximum precipitation.\n",
    "4. Sort the resulting DataFrame by average temperature (`\"TAVG\"`) in decreasing order, and thus find the precipation on the hottest day among the days with non-zero precipitation\n",
    "5. You’ll notice that the data still carries the original index. Reset the index so that it starts from 0 and increments by 1 per row"
   ]
  },
  {
   "cell_type": "code",
   "execution_count": null,
   "id": "f01809f9-f1c2-4aa2-a978-89c8a0c3d8f7",
   "metadata": {},
   "outputs": [],
   "source": [
    "# Your codes for part 1"
   ]
  },
  {
   "cell_type": "code",
   "execution_count": null,
   "id": "543504b0-8293-4805-9423-00bd482ec5df",
   "metadata": {},
   "outputs": [],
   "source": [
    "# Your codes for part 2"
   ]
  },
  {
   "cell_type": "code",
   "execution_count": null,
   "id": "e5ee4830-cddb-4855-ad28-d908f9c1bbcb",
   "metadata": {},
   "outputs": [],
   "source": [
    "# Your codes for part 3"
   ]
  },
  {
   "cell_type": "code",
   "execution_count": null,
   "id": "2d468b62-efcc-41f2-96f8-3de1b7c5c85f",
   "metadata": {},
   "outputs": [],
   "source": [
    "# Your codes for part 4"
   ]
  },
  {
   "cell_type": "code",
   "execution_count": null,
   "id": "9b027ec7-abc6-407e-acc1-74e197bcc013",
   "metadata": {},
   "outputs": [],
   "source": [
    "# Your codes for part 5"
   ]
  },
  {
   "cell_type": "markdown",
   "id": "c51033fa-a3a1-4ebe-9370-9315f86e89c3",
   "metadata": {
    "jp-MarkdownHeadingCollapsed": true
   },
   "source": [
    "### Plotting pandas dataframe"
   ]
  },
  {
   "cell_type": "code",
   "execution_count": null,
   "id": "4fb2b1ae-bb6b-4b91-99e5-3698668ec7a3",
   "metadata": {},
   "outputs": [],
   "source": [
    "# panda Series can be used as arguments to matplotlib plot functions\n",
    "# to specify where datetime ticks are and how to display them\n",
    "# use tools from matplotlib.dates\n",
    "\n",
    "fig = plt.figure()\n",
    "ax = fig.add_subplot()\n",
    "\n",
    "ax.set_xlabel(\"Dates in 2024\")\n",
    "ax.set_ylabel(\"Temperature (°C)\")\n",
    "ax.set_title(\"Tenperature at SeaTac airport\")\n",
    "\n",
    "locator = mdates.MonthLocator(bymonthday=15)\n",
    "formatter = mdates.DateFormatter(\"%b\")\n",
    "\n",
    "ax.set_xlim(pd.to_datetime([\"2024-01-01\", \"2024-12-31\"]))\n",
    "ax.xaxis.set_major_locator(locator)\n",
    "ax.xaxis.set_major_formatter(formatter)\n",
    "\n",
    "ax.plot(df_seatac[\"DATE\"],df_seatac[\"TAVG\"])\n",
    "\n",
    "plt.show()"
   ]
  },
  {
   "cell_type": "markdown",
   "id": "9cb34fdf-8630-4172-bdd8-e5afff8a6f1a",
   "metadata": {
    "jp-MarkdownHeadingCollapsed": true
   },
   "source": [
    "### Saving dataframe to file"
   ]
  },
  {
   "cell_type": "code",
   "execution_count": null,
   "id": "990479d8-b572-4cde-b041-1a6ef0ef88d3",
   "metadata": {},
   "outputs": [],
   "source": [
    "# write to csv file\n",
    "seatac_stat.to_csv(\"seatac_stat.csv\")"
   ]
  },
  {
   "cell_type": "code",
   "execution_count": null,
   "id": "92f0bb80-68ed-44d6-b21e-a5e18c5a5afc",
   "metadata": {},
   "outputs": [],
   "source": [
    "# write to excel file\n",
    "seatac_stat.to_excel(\"seatac_stat.xlsx\")"
   ]
  },
  {
   "cell_type": "code",
   "execution_count": null,
   "id": "3b8accbb-1001-4975-bc9e-b1f329d74c08",
   "metadata": {},
   "outputs": [],
   "source": [
    "# write multiple DataFrames to same file (different sheet)\n",
    "with pd.ExcelWriter(\"stats_examples.xlsx\") as xlsx:\n",
    "    seatac_stat.to_excel(xlsx, sheet_name=\"SeaTac\")\n",
    "    penguins_stat.to_excel(xlsx, sheet_name=\"Penguins\")"
   ]
  },
  {
   "cell_type": "markdown",
   "id": "a2880a2c-5ad0-446d-928b-9b86f77c1450",
   "metadata": {
    "jp-MarkdownHeadingCollapsed": true
   },
   "source": [
    "## Pandas data type"
   ]
  },
  {
   "cell_type": "markdown",
   "id": "6f138b8c-f79b-492f-b976-30ea88502204",
   "metadata": {
    "jp-MarkdownHeadingCollapsed": true
   },
   "source": [
    "### Convert datatype"
   ]
  },
  {
   "cell_type": "code",
   "execution_count": null,
   "id": "a7130378-4064-4d00-b4df-35641244b46f",
   "metadata": {},
   "outputs": [],
   "source": [
    "# start with a pandas series of floating point\n",
    "numbers = pd.Series([1.0, 3.0, 2.0, np.nan, 4.0])\n",
    "numbers"
   ]
  },
  {
   "cell_type": "code",
   "execution_count": null,
   "id": "a10abda5-5f9c-4eab-9145-3517561d304b",
   "metadata": {},
   "outputs": [],
   "source": [
    "# convert to string\n",
    "numbers.astype(\"string\")"
   ]
  },
  {
   "cell_type": "code",
   "execution_count": null,
   "id": "c4fae6d6-9df5-49e8-8c2c-548180a6b1c8",
   "metadata": {},
   "outputs": [],
   "source": [
    "# convert to int\n",
    "numbers.astype(\"Int64\")"
   ]
  },
  {
   "cell_type": "code",
   "execution_count": null,
   "id": "0650f751-dc26-4d65-b397-670bc551c4c2",
   "metadata": {},
   "outputs": [],
   "source": [
    "# convert to float (no effect)\n",
    "numbers.astype(\"float\")"
   ]
  },
  {
   "cell_type": "markdown",
   "id": "39f32f2f-54ad-40d4-b839-7e191d7165cc",
   "metadata": {
    "jp-MarkdownHeadingCollapsed": true
   },
   "source": [
    "### Missing data: `np.nan`, `pd.NaT`, and `pd.NA`"
   ]
  },
  {
   "cell_type": "code",
   "execution_count": null,
   "id": "96a4a100-6d2e-4b71-84f2-1df5e4a9681c",
   "metadata": {},
   "outputs": [],
   "source": [
    "# np.nan and np.NaT are treated as falsy\n",
    "print(\n",
    "    bool(np.nan),\n",
    "    bool(pd.NaT)\n",
    ")"
   ]
  },
  {
   "cell_type": "code",
   "execution_count": null,
   "id": "4c574247-9f06-4caf-ba23-7978c3a72f83",
   "metadata": {},
   "outputs": [],
   "source": [
    "# pd.NA will however raise an error when trying to convert to bool\n",
    "bool(pd.NA)"
   ]
  },
  {
   "cell_type": "code",
   "execution_count": null,
   "id": "5bde433b-8e2e-4f68-9a47-2f4ae8be1c32",
   "metadata": {},
   "outputs": [],
   "source": [
    "# check nullish via .isna()\n",
    "print(\n",
    "    pd.isna(None),\n",
    "    pd.isna(np.nan),\n",
    "    pd.isna(pd.NaT),\n",
    "    pd.isna(pd.NA)\n",
    ")"
   ]
  },
  {
   "cell_type": "code",
   "execution_count": null,
   "id": "5072b790-fa9b-4091-9280-91bceffed15b",
   "metadata": {},
   "outputs": [],
   "source": [
    "# there's missing data in the SeaTac dataset\n",
    "df_seatac[\"PGTM\"].isna().sum()"
   ]
  },
  {
   "cell_type": "code",
   "execution_count": null,
   "id": "be7c1e17-f1a5-4022-b03c-9bf88a4fe8b9",
   "metadata": {},
   "outputs": [],
   "source": [
    "# nonetheless summary statistics can be calculated\n",
    "# by ignoring the NA value\n",
    "df_seatac[\"PGTM\"].mean()"
   ]
  },
  {
   "cell_type": "markdown",
   "id": "48bf78b6-afbe-4e2e-aafc-934e3356cb8f",
   "metadata": {
    "jp-MarkdownHeadingCollapsed": true
   },
   "source": [
    "### String data type"
   ]
  },
  {
   "cell_type": "code",
   "execution_count": null,
   "id": "7d31d175-6eb8-4cae-8592-e92a3a583f76",
   "metadata": {},
   "outputs": [],
   "source": [
    "# concantenate values from all rows at once\n",
    "penguin_class = df_penguins[\"island\"] + \"_\" + df_penguins[\"species\"]\n",
    "penguin_class"
   ]
  },
  {
   "cell_type": "code",
   "execution_count": null,
   "id": "e23144fb-275f-4580-8d08-4e5eb7f90cd1",
   "metadata": {},
   "outputs": [],
   "source": [
    "# use .str.contain to check substring\n",
    "penguin_dream = penguin_class.str.contains(\"Dream\")\n",
    "penguin_dream"
   ]
  },
  {
   "cell_type": "code",
   "execution_count": null,
   "id": "c614d633-7be6-4164-9273-a04ce445b3d8",
   "metadata": {},
   "outputs": [],
   "source": [
    "df_penguins.loc[penguin_dream, :]"
   ]
  },
  {
   "cell_type": "code",
   "execution_count": null,
   "id": "1e6b0fb2-895d-472c-8f40-32e104f6b40e",
   "metadata": {},
   "outputs": [],
   "source": [
    "# replace island name with shorthand\n",
    "island_codes = df_penguins[\"island\"].replace(\"Dream\", \"D\").replace(\"Torgersen\", \"T\").replace(\"Biscoe\", \"B\")\n",
    "island_codes"
   ]
  },
  {
   "cell_type": "markdown",
   "id": "fce1879c-6a04-4486-b9d5-640531fd109b",
   "metadata": {
    "jp-MarkdownHeadingCollapsed": true
   },
   "source": [
    "### Categorical data type"
   ]
  },
  {
   "cell_type": "code",
   "execution_count": null,
   "id": "c404ea80-dbf7-4438-a2bc-ed4e399a46ae",
   "metadata": {},
   "outputs": [],
   "source": [
    "# convert data to categorical type\n",
    "df_penguins[\"island\"] = df_penguins[\"island\"].astype(\"category\")\n",
    "df_penguins[\"species\"] = df_penguins[\"species\"].astype(\"category\")\n",
    "df_penguins"
   ]
  },
  {
   "cell_type": "code",
   "execution_count": null,
   "id": "e189ff5a-be8a-4afb-b941-4ded9688d405",
   "metadata": {},
   "outputs": [],
   "source": [
    "# recode (and possibly combine) categories\n",
    "df_Biscoe = df_penguins[\"island\"].map(\n",
    "    {\"Biscoe\": \"Biscoe\", \"Dream\": \"not_Biscoe\", \"Torgersen\": \"not_Biscoe\"}\n",
    ").astype(\"category\")\n",
    "df_Biscoe"
   ]
  },
  {
   "cell_type": "markdown",
   "id": "4002958b-f46e-4395-97d4-2ce6cf8975ce",
   "metadata": {
    "jp-MarkdownHeadingCollapsed": true
   },
   "source": [
    "### Date and datetime datatype"
   ]
  },
  {
   "cell_type": "code",
   "execution_count": null,
   "id": "ebc54b8e-72c3-4393-aecf-d42753e49751",
   "metadata": {},
   "outputs": [],
   "source": [
    "# convert scalar string to timestamp\n",
    "\n",
    "pd.Timestamp(\"2017-05-24 13:00:00\")"
   ]
  },
  {
   "cell_type": "code",
   "execution_count": null,
   "id": "5185ce97-a8c6-4704-b572-71e3ad2b7f92",
   "metadata": {},
   "outputs": [],
   "source": [
    "# convert a list of string into pandas datetime\n",
    "pd.to_datetime([\"2024-01-05\", \"2024-01-07\", \"2024-01-09\"])"
   ]
  },
  {
   "cell_type": "code",
   "execution_count": null,
   "id": "90feaf10-80fd-4317-80f1-906e125dcd74",
   "metadata": {},
   "outputs": [],
   "source": [
    "pd.Series(pd.to_datetime([\"2024-01-05\", \"2024-01-07\", \"2024-01-09\"]))"
   ]
  },
  {
   "cell_type": "code",
   "execution_count": null,
   "id": "652d8621-92bf-4291-8522-aab6eb43116f",
   "metadata": {},
   "outputs": [],
   "source": [
    "# create a regular list of timestamp\n",
    "# use freq to specify interval between time points\n",
    "pd.date_range(\"2024-01-03 10:00\", \"2024-03-04\", freq=\"15D\")"
   ]
  },
  {
   "cell_type": "code",
   "execution_count": null,
   "id": "b3990c93-17c7-4b51-8957-21a48ba60e42",
   "metadata": {},
   "outputs": [],
   "source": [
    "# create a regular list of timestamp\n",
    "# specify the number of time points rather than an endtime\n",
    "pd.date_range(\"2024-01-03\", periods=10, freq=\"2D\")"
   ]
  },
  {
   "cell_type": "code",
   "execution_count": null,
   "id": "efe2309f-5581-4ca6-ab33-2df0b3556678",
   "metadata": {},
   "outputs": [],
   "source": [
    "# Create a pandas Series of datetime\n",
    "# use start, stop and periods to specify time points\n",
    "pd.Series(pd.date_range(\"2024-01-01\", \"2024-02-01\", periods=15))"
   ]
  },
  {
   "cell_type": "code",
   "execution_count": null,
   "id": "6c15e722-5f48-4cdd-bd26-f5b84666a3c1",
   "metadata": {},
   "outputs": [],
   "source": [
    "# a datetime range and include a few NaT's\n",
    "drange = pd.Series(pd.date_range(\"2024-01-01\", periods=12, freq=\"1MS\"))\n",
    "drange.iloc[[5, 8]] = pd.NaT\n",
    "display(drange)"
   ]
  },
  {
   "cell_type": "code",
   "execution_count": null,
   "id": "25fd963e-9ffb-4bfc-8cfa-008ba50b2cb1",
   "metadata": {},
   "outputs": [],
   "source": [
    "# extract years\n",
    "drange.dt.year"
   ]
  },
  {
   "cell_type": "code",
   "execution_count": null,
   "id": "99b82ac3-dc17-49fd-8030-b21972d56234",
   "metadata": {},
   "outputs": [],
   "source": [
    "# extract day of year\n",
    "drange.dt.dayofyear"
   ]
  },
  {
   "cell_type": "code",
   "execution_count": null,
   "id": "19de5074-c66b-4951-bc14-a4f27dc991b9",
   "metadata": {},
   "outputs": [],
   "source": [
    "# extract month\n",
    "drange.dt.month"
   ]
  },
  {
   "cell_type": "markdown",
   "id": "f38f6a6f-9c31-44cd-8a02-2f3a7c3fde21",
   "metadata": {
    "jp-MarkdownHeadingCollapsed": true
   },
   "source": [
    "### Timezones"
   ]
  },
  {
   "cell_type": "code",
   "execution_count": null,
   "id": "d6eaa2b0-ec42-4ff3-bfbc-145deb7d1a88",
   "metadata": {},
   "outputs": [],
   "source": [
    "# setting timezone directly when creating datetime Series\n",
    "\n",
    "tz_London = pytz.timezone(\"Europe/London\")\n",
    "tzrng = pd.Series(pd.date_range(\n",
    "    \"2024-01-14 9:56:33\", periods=10, freq=\"D\", tz=tz_London\n",
    "))\n",
    "tzrng"
   ]
  },
  {
   "cell_type": "code",
   "execution_count": null,
   "id": "caa062f4-53f1-427f-ad10-da3039c8e141",
   "metadata": {},
   "outputs": [],
   "source": [
    "# augment original data with new timezone\n",
    "# NOTE that the timezone is added without modifying the datetime value\n",
    "drng = pd.date_range(\"3/6/2012 00:00\", periods=15, freq=\"D\")\n",
    "tzrng2 = drng.tz_localize(\"America/New_York\")\n",
    "tzrng2"
   ]
  },
  {
   "cell_type": "code",
   "execution_count": null,
   "id": "62b014a4-a416-4ad6-885c-0d27d5dec915",
   "metadata": {},
   "outputs": [],
   "source": [
    "# convert from one timezone to another\n",
    "tzrng3 = tzrng2.tz_convert(\"UTC\")\n",
    "tzrng3"
   ]
  },
  {
   "cell_type": "markdown",
   "id": "5d973edf-9cc6-452d-bcfd-b2cd54d473be",
   "metadata": {
    "jp-MarkdownHeadingCollapsed": true
   },
   "source": [
    "### Exercise 4"
   ]
  },
  {
   "cell_type": "markdown",
   "id": "d655859a-c55d-4154-b002-a39b639b5896",
   "metadata": {},
   "source": [
    "1. Create a pandas Series of datetime that spans 2024, and contain the first day of every month at 10:00 AM and the 15th of every month at 2:00 PM. Make sure that:\n",
    "    1. your pandas Series is sorted by increasing date\n",
    "    1. your pandas Series has a row index that starts from 0 and increment 1 per row\n",
    "2. Set the timezone of the Series to Seattle local time (which timezone will work?)\n",
    "3. Extract the day of year from the resulting Series\n",
    "   \n",
    "**Hint: #1**: you can use `pd.concat([A, B])` to join two pandas Series into one\n",
    "\n",
    "**Hint: #2**: look up the IANA time zones [here](https://en.wikipedia.org/wiki/List_of_tz_database_time_zones)"
   ]
  },
  {
   "cell_type": "code",
   "execution_count": null,
   "id": "1b3c09d9-c6a6-4e07-97bd-2cf23e7bc171",
   "metadata": {},
   "outputs": [],
   "source": [
    "# Your code for part 1"
   ]
  },
  {
   "cell_type": "code",
   "execution_count": null,
   "id": "0076ac1e-3fe7-40a7-b6a3-579bc1f056c5",
   "metadata": {},
   "outputs": [],
   "source": [
    "# Your code for part 2"
   ]
  },
  {
   "cell_type": "code",
   "execution_count": null,
   "id": "a698716f-ffa2-4b4e-aaf8-6eac547903fe",
   "metadata": {},
   "outputs": [],
   "source": [
    "# Your code for part 3"
   ]
  },
  {
   "cell_type": "markdown",
   "id": "1413c0ca-0579-4251-b2ae-5315b01a649f",
   "metadata": {
    "jp-MarkdownHeadingCollapsed": true
   },
   "source": [
    "## Pandas grouped and rolling reduction"
   ]
  },
  {
   "cell_type": "markdown",
   "id": "9a9b0a45-2d81-4e79-9fe9-179a797aa2d4",
   "metadata": {
    "jp-MarkdownHeadingCollapsed": true
   },
   "source": [
    "### Grouped reduction"
   ]
  },
  {
   "cell_type": "code",
   "execution_count": null,
   "id": "d0285dd9-4578-4f82-8d78-c8f34216ec1c",
   "metadata": {},
   "outputs": [],
   "source": [
    "# Create a grouped DataFrame and calculated mean\n",
    "df_penguins.loc[:, [\"species\", \"flipper_length_mm\", \"body_mass_g\"]].groupby(\"species\").mean()"
   ]
  },
  {
   "cell_type": "code",
   "execution_count": null,
   "id": "c16d12fe-9b9d-4cde-a228-a7afb8be2d2d",
   "metadata": {},
   "outputs": [],
   "source": [
    "# It is possible to group by multiple columns\n",
    "df_penguins.loc[:, [\"species\", \"island\", \"flipper_length_mm\", \"body_mass_g\"]].groupby([\"species\", \"island\"]).mean()"
   ]
  },
  {
   "cell_type": "markdown",
   "id": "d7444890-f84b-47ac-974a-4f04e8feb67e",
   "metadata": {
    "jp-MarkdownHeadingCollapsed": true
   },
   "source": [
    "### Rolling reduction"
   ]
  },
  {
   "cell_type": "code",
   "execution_count": null,
   "id": "54349cec-aadb-424e-af92-3258ed7cb75b",
   "metadata": {},
   "outputs": [],
   "source": [
    "# rolling average over periods of 14 data points (= 2 week)\n",
    "rolling_PRCP = df_seatac[\"PRCP\"].rolling(14, center=True).mean()"
   ]
  },
  {
   "cell_type": "code",
   "execution_count": null,
   "id": "25c9b994-7295-448a-abcb-11e803cc2866",
   "metadata": {},
   "outputs": [],
   "source": [
    "# compare raw data with rolling average\n",
    "\n",
    "fig = plt.figure()\n",
    "ax = fig.add_subplot()\n",
    "\n",
    "ax.plot(df_seatac[\"DATE\"], df_seatac[\"PRCP\"], label=\"raw data\")\n",
    "ax.plot(df_seatac[\"DATE\"], rolling_PRCP, lw=2, ls=\"--\", label=\"rolling average\")\n",
    "\n",
    "ax.legend()\n",
    "\n",
    "plt.show()"
   ]
  },
  {
   "cell_type": "markdown",
   "id": "741810c7-60be-4a78-a056-79da1392e31f",
   "metadata": {
    "jp-MarkdownHeadingCollapsed": true
   },
   "source": [
    "### Exercise 5"
   ]
  },
  {
   "cell_type": "markdown",
   "id": "c23e9ab9-87d3-4b41-9c3c-c961e83eae98",
   "metadata": {},
   "source": [
    "**Groupby and rolling**\n",
    "\n",
    "1. Calculate the monthly average temperature from the SeaTac dataset, and store the results in variable `TAVG_monthly`\n",
    "2. Calculate the one-week rolling average temperature from the SeaTac dataset, and store the results in variable `TAVG_rolling`\n",
    "3. Plot `TAVG_monthly` and `TAVG_rolling` on the same axes, using the starter code as template. Your x-axis should display abbreviated months as ticks (i.e., \"Jan\", \"Feb\", etc.). Your `TAVG_monthly` should be presented as vertical bars, and your `TAVG_rolling` should be presented as a line."
   ]
  },
  {
   "cell_type": "code",
   "execution_count": null,
   "id": "dcd89071-8c52-4ca2-8c28-965a5b332e14",
   "metadata": {},
   "outputs": [],
   "source": [
    "# your code for part 1"
   ]
  },
  {
   "cell_type": "code",
   "execution_count": null,
   "id": "4ad8a55c-65aa-4f94-a704-d24a6dbc25df",
   "metadata": {},
   "outputs": [],
   "source": [
    "# your code for part 2"
   ]
  },
  {
   "cell_type": "code",
   "execution_count": null,
   "id": "79fceb2b-e1f5-43b0-b737-8a895317d53c",
   "metadata": {},
   "outputs": [],
   "source": [
    "# part 3, with starter code\n",
    "\n",
    "fig = plt.figure()\n",
    "ax = fig.add_subplot()\n",
    "\n",
    "ax.set_xlabel(\"Months of 2024\")\n",
    "ax.set_ylabel(\"Temperature (°C)\")\n",
    "ax.set_title(\"Tenperature at SeaTac airport\")\n",
    "\n",
    "\n",
    "plt.legend()\n",
    "\n",
    "plt.show()"
   ]
  },
  {
   "cell_type": "markdown",
   "id": "e9703e15-fdd7-482f-83cc-ed16dcbe7e04",
   "metadata": {
    "jp-MarkdownHeadingCollapsed": true
   },
   "source": [
    "## Xarray"
   ]
  },
  {
   "cell_type": "markdown",
   "id": "fe8762e1-f697-4041-adff-0d0fdc9a43b1",
   "metadata": {
    "jp-MarkdownHeadingCollapsed": true
   },
   "source": [
    "### Loading and inspecting a netcdf file (xarray Dataset)"
   ]
  },
  {
   "cell_type": "markdown",
   "id": "483ee891-1917-4e42-9874-bba161dae887",
   "metadata": {},
   "source": [
    "**NOTE**: data downloaded from https://www.ncei.noaa.gov/access/world-ocean-atlas-2023/bin/woa23.pl"
   ]
  },
  {
   "cell_type": "code",
   "execution_count": null,
   "id": "d93c5fba-6050-4a11-bea0-917dc81cec35",
   "metadata": {},
   "outputs": [],
   "source": [
    "woa23 = xr.open_dataset(\"data/woa23_decav_t00_01.nc\", decode_times=False)\n",
    "display(woa23)"
   ]
  },
  {
   "cell_type": "code",
   "execution_count": null,
   "id": "504c54e4-3b61-46b1-8be9-220fea466a32",
   "metadata": {},
   "outputs": [],
   "source": [
    "# extract a particular data variable\n",
    "woa23t = woa23[\"t_an\"]\n",
    "display(woa23t)"
   ]
  },
  {
   "cell_type": "code",
   "execution_count": null,
   "id": "b9dafdb0-567b-45fb-9cc6-fbb36c8470c0",
   "metadata": {},
   "outputs": [],
   "source": [
    "# extract one of the coordinates\n",
    "woa23.coords[\"lat\"]"
   ]
  },
  {
   "cell_type": "code",
   "execution_count": null,
   "id": "4146e9af-3750-406a-a345-b1e321b2297c",
   "metadata": {},
   "outputs": [],
   "source": [
    "# obtain the underlying numpy array of the above coordinates\n",
    "woa23.coords[\"lat\"].values"
   ]
  },
  {
   "cell_type": "code",
   "execution_count": null,
   "id": "114e8005-fabb-43d8-ac97-68508aff2fae",
   "metadata": {},
   "outputs": [],
   "source": [
    "# extract the dimension names\n",
    "woa23.dims"
   ]
  },
  {
   "cell_type": "code",
   "execution_count": null,
   "id": "4c472e8a-c537-484e-adf6-c7ca56a17791",
   "metadata": {},
   "outputs": [],
   "source": [
    "# get the size information of data\n",
    "woa23.sizes"
   ]
  },
  {
   "cell_type": "code",
   "execution_count": null,
   "id": "17e1d460-bf5d-44f8-9107-9720d04e2d4d",
   "metadata": {},
   "outputs": [],
   "source": [
    "# get the global metadata\n",
    "woa23.attrs"
   ]
  },
  {
   "cell_type": "code",
   "execution_count": null,
   "id": "061b0bce-e839-4c7c-9b42-c594984c1c8c",
   "metadata": {},
   "outputs": [],
   "source": [
    "# get the metadata of one data variable\n",
    "woa23[\"t_an\"].attrs"
   ]
  },
  {
   "cell_type": "markdown",
   "id": "c335e5e7-66c8-424b-89f7-4d55f5b12cc1",
   "metadata": {
    "jp-MarkdownHeadingCollapsed": true
   },
   "source": [
    "### Selecting using `[]`, `.sel()`, and `.isel()`"
   ]
  },
  {
   "cell_type": "code",
   "execution_count": null,
   "id": "b52e294b-9f74-41d6-b030-9c994a70836f",
   "metadata": {},
   "outputs": [],
   "source": [
    "# extract the DataArray corresonding to objectively analyzed mean\n",
    "woa23t = woa23[\"t_an\"]"
   ]
  },
  {
   "cell_type": "code",
   "execution_count": null,
   "id": "0d8165d6-cb00-4d7a-a550-ba9e63edcdd7",
   "metadata": {},
   "outputs": [],
   "source": [
    "# selecting both latitude and longitude by coordinate labels\n",
    "woa_point = woa23t.sel(lat=50.5, lon=-150.5)\n",
    "display(woa_point)\n",
    "display(woa_point.values)"
   ]
  },
  {
   "cell_type": "code",
   "execution_count": null,
   "id": "8e07a0ef-14f6-4b22-80dd-66cd21ae890a",
   "metadata": {},
   "outputs": [],
   "source": [
    "# approximate matching by coordinate labels\n",
    "woa_point = woa23t.sel(lat=80, lon=-150, method=\"nearest\")\n",
    "display(woa_point)\n",
    "display(woa_point.values)"
   ]
  },
  {
   "cell_type": "code",
   "execution_count": null,
   "id": "c05f85ac-84b6-4ed5-9113-b8999721231d",
   "metadata": {},
   "outputs": [],
   "source": [
    "# use squeeze to remove dimensions with only 1 index\n",
    "woa_squeezed = woa_point.squeeze()\n",
    "display(woa_squeezed)"
   ]
  },
  {
   "cell_type": "code",
   "execution_count": null,
   "id": "1767a475-b093-4c72-9ed8-74d918111d01",
   "metadata": {},
   "outputs": [],
   "source": [
    "# slicing by coordinate labels\n",
    "# Note that when using .sel, slicing is endpoint inclusive\n",
    "AmPac = woa23t.sel(lat=slice(30.5, 50.5), lon=slice(-150, -130))\n",
    "display(AmPac)"
   ]
  },
  {
   "cell_type": "code",
   "execution_count": null,
   "id": "89014d6c-9779-4702-a60a-3170a8ea001b",
   "metadata": {},
   "outputs": [],
   "source": [
    "# selection by boolean\n",
    "woa_subset = woa23t.sel(lat = woa23t.coords[\"lat\"] % 5 == 2.5, lon = woa23t.coords[\"lon\"] % 5 == 2.5)\n",
    "display(woa_subset)"
   ]
  },
  {
   "cell_type": "code",
   "execution_count": null,
   "id": "b03447f7-08f5-428c-b430-be3ff03f2210",
   "metadata": {},
   "outputs": [],
   "source": [
    "# average over depth. Note that nan is ignored\n",
    "AmPac = woa23t.sel(lat=slice(30.5, 50.5), lon=slice(-150, -130))\n",
    "AmPac.mean([\"depth\", \"time\"])"
   ]
  },
  {
   "cell_type": "markdown",
   "id": "716be497-eabf-461b-99ba-ff6c47f4d92d",
   "metadata": {
    "jp-MarkdownHeadingCollapsed": true
   },
   "source": [
    "### Converting between xarray and pandas"
   ]
  },
  {
   "cell_type": "code",
   "execution_count": null,
   "id": "a3f851b2-0f67-4b5d-b944-2d544a143e59",
   "metadata": {},
   "outputs": [],
   "source": [
    "# convert \n",
    "woa23 = xr.open_dataset(\"data/woa23_decav_t00_01.nc\", decode_times=False)\n",
    "\n",
    "# extract only data variables that don't depend on nbounds\n",
    "woa23ts = woa23[[\"t_an\", \"t_mn\", \"t_dd\", \"t_sd\", \"t_se\", \"t_oa\", \"t_gp\", \"t_sdo\", \"t_sea\"]]\n",
    "\n",
    "# extract only the surface depth, and squeeze extra dimensions\n",
    "woa23ts_surf = woa23ts.sel(depth=0, method=\"nearest\").squeeze()\n",
    "\n",
    "# convert to pandas dataframe\n",
    "woa23_pd = woa23ts_surf.to_dataframe()\n",
    "display(woa23_pd)\n",
    "\n",
    "# reset the multi-index dataframe into regular one\n",
    "woa23_pd2 = woa23_pd.reset_index()\n",
    "display(woa23_pd2)"
   ]
  },
  {
   "cell_type": "code",
   "execution_count": null,
   "id": "92c2b2db-c8e9-4003-b4eb-7c32edfef55a",
   "metadata": {},
   "outputs": [],
   "source": [
    "# reverse the operation\n",
    "woa23_xr = woa23_pd2.set_index([\"lat\", \"lon\"]).to_xarray()"
   ]
  },
  {
   "cell_type": "code",
   "execution_count": null,
   "id": "3e4e6668-08a2-4736-af07-8a945782e926",
   "metadata": {},
   "outputs": [],
   "source": [
    "woa23_xr"
   ]
  },
  {
   "cell_type": "markdown",
   "id": "63d4e0e5-0a25-4ad0-ab25-1d3c8e80f6b2",
   "metadata": {
    "jp-MarkdownHeadingCollapsed": true
   },
   "source": [
    "### Writing netcdf file"
   ]
  },
  {
   "cell_type": "code",
   "execution_count": null,
   "id": "df6aae09-e017-49aa-9f13-e87facc8436a",
   "metadata": {},
   "outputs": [],
   "source": [
    "# start with the SeaTac dataframe and turn it into a dataset\n",
    "df_seatac = pd.read_csv(\"data/NOAA_SeaTac_weather_2024.csv\", parse_dates = [\"DATE\"]).convert_dtypes()\n",
    "seatac_sub = df_seatac[[\"LATITUDE\", \"LONGITUDE\", \"ELEVATION\", \"DATE\", \"PRCP\", \"TAVG\"]]\n",
    "seatac_xr = seatac_sub.set_index([\"LATITUDE\", \"LONGITUDE\", \"ELEVATION\", \"DATE\"]).to_xarray()"
   ]
  },
  {
   "cell_type": "code",
   "execution_count": null,
   "id": "79032f1b-9186-4087-a3b2-3bdcce94366e",
   "metadata": {},
   "outputs": [],
   "source": [
    "display(seatac_xr)"
   ]
  },
  {
   "cell_type": "code",
   "execution_count": null,
   "id": "f97ff7b0-d8c8-4ae5-8754-4a22f2de67fb",
   "metadata": {},
   "outputs": [],
   "source": [
    "# write this Dataset to file, specifying compression\n",
    "seatac_xr.to_netcdf(\n",
    "    \"SeaTac_weather.nc\", \n",
    "    format=\"NETCDF4\", \n",
    "    encoding = {\"PRCP\": {\"zlib\": True, \"complevel\": 9}, \"TAVG\": {\"zlib\": True, \"complevel\": 9}}\n",
    ")"
   ]
  },
  {
   "cell_type": "markdown",
   "id": "c3e913d5-52eb-44c2-aabf-63cc06ebffe1",
   "metadata": {
    "jp-MarkdownHeadingCollapsed": true
   },
   "source": [
    "## Cartopy"
   ]
  },
  {
   "cell_type": "markdown",
   "id": "53ecde16-3d74-4b02-bc96-a99eea7fd3cb",
   "metadata": {
    "jp-MarkdownHeadingCollapsed": true
   },
   "source": [
    "### Map projections"
   ]
  },
  {
   "cell_type": "code",
   "execution_count": null,
   "id": "f593dd7a-a8bb-40b7-a265-90f055a4784c",
   "metadata": {},
   "outputs": [],
   "source": [
    "# example data: surface temperature from woa23\n",
    "woa23 = xr.open_dataset(\"data/woa23_decav_t00_01.nc\", decode_times=False)\n",
    "woa23_surf = woa23.sel(depth=0, method=\"nearest\").squeeze()\n",
    "\n",
    "surf_temp = woa23_surf[\"t_an\"].values\n",
    "surf_lat = woa23_surf.coords[\"lat\"].values\n",
    "surf_lon = woa23_surf.coords[\"lon\"].values\n",
    "\n",
    "print(surf_temp.shape, surf_lat.shape, surf_lon.shape)"
   ]
  },
  {
   "cell_type": "code",
   "execution_count": null,
   "id": "83df1aa7-687a-49b4-9319-9d33baa193fc",
   "metadata": {},
   "outputs": [],
   "source": [
    "# plot annual temperature on the global scale\n",
    "\n",
    "fig = plt.figure(figsize=(10, 4))\n",
    "ax = fig.add_subplot(projection=ccrs.InterruptedGoodeHomolosine())\n",
    "\n",
    "mesh = ax.pcolormesh(surf_lon, surf_lat, surf_temp, cmap=cmo.thermal, transform=ccrs.PlateCarree())\n",
    "cb = fig.colorbar(mesh)\n",
    "cb.set_label(\"annual temperature (°C)\")\n",
    "\n",
    "plt.show()"
   ]
  },
  {
   "cell_type": "markdown",
   "id": "7f1e7441-08cc-41b7-b1dd-f05dbe0ec107",
   "metadata": {
    "jp-MarkdownHeadingCollapsed": true
   },
   "source": [
    "### Geographical features"
   ]
  },
  {
   "cell_type": "code",
   "execution_count": null,
   "id": "3361e11d-dfb2-43ca-a42c-af91a9580c9f",
   "metadata": {},
   "outputs": [],
   "source": [
    "# adding coastline, land, and border features\n",
    "\n",
    "fig = plt.figure(figsize=(10, 4))\n",
    "ax = fig.add_subplot(projection=ccrs.InterruptedGoodeHomolosine())\n",
    "\n",
    "#### << START NEW CONTENT ####\n",
    "ax.coastlines()\n",
    "ax.add_feature(cfeature.LAND, color=\"whitesmoke\")\n",
    "ax.add_feature(cfeature.BORDERS, edgecolor=\"brown\")\n",
    "#### >> END NEW CONTENT ####\n",
    "\n",
    "mesh = ax.pcolormesh(surf_lon, surf_lat, surf_temp, cmap=cmo.thermal, transform=ccrs.PlateCarree())\n",
    "cb = fig.colorbar(mesh)\n",
    "cb.set_label(\"annual temperature (°C)\")\n",
    "\n",
    "plt.show()"
   ]
  },
  {
   "cell_type": "code",
   "execution_count": null,
   "id": "fb8edfda-786e-4d41-9d04-e659d68254e8",
   "metadata": {},
   "outputs": [],
   "source": [
    "# custom NaturalEarth feature\n",
    "\n",
    "fig = plt.figure(figsize=(10, 4))\n",
    "ax = fig.add_subplot(projection=ccrs.InterruptedGoodeHomolosine())\n",
    "\n",
    "#### << START NEW CONTENT ####\n",
    "roads = cfeature.NaturalEarthFeature(\n",
    "    category='cultural',\n",
    "    name='urban_areas',\n",
    "    scale='50m',\n",
    ")\n",
    "ax.coastlines()\n",
    "ax.add_feature(roads, color=\"darkgoldenrod\")\n",
    "#### >> END NEW CONTENT ####\n",
    "\n",
    "mesh = ax.pcolormesh(surf_lon, surf_lat, surf_temp, cmap=cmo.thermal, transform=ccrs.PlateCarree())\n",
    "cb = fig.colorbar(mesh)\n",
    "cb.set_label(\"annual temperature (°C)\")\n",
    "\n",
    "plt.show()"
   ]
  },
  {
   "cell_type": "markdown",
   "id": "f55b9e6a-fa16-41b7-9e8f-e26640d2e535",
   "metadata": {
    "jp-MarkdownHeadingCollapsed": true
   },
   "source": [
    "### Restricting extent"
   ]
  },
  {
   "cell_type": "code",
   "execution_count": null,
   "id": "d67f8839-7931-4c73-99fc-05a363dbbc98",
   "metadata": {},
   "outputs": [],
   "source": [
    "# restricting the geographical extent of the plot\n",
    "\n",
    "fig = plt.figure(figsize=(10, 4))\n",
    "ax = fig.add_subplot(projection=ccrs.PlateCarree())\n",
    "\n",
    "#### << START NEW CONTENT ####\n",
    "# set_extent format: (x0, x1, y0, y1)\n",
    "ax.set_extent([-75, 0, 30, 60], crs=ccrs.PlateCarree())\n",
    "#### >> END NEW CONTENT ####\n",
    "\n",
    "ax.coastlines()\n",
    "\n",
    "mesh = ax.pcolormesh(surf_lon, surf_lat, surf_temp, cmap=cmo.thermal, transform=ccrs.PlateCarree())\n",
    "cb = fig.colorbar(mesh)\n",
    "cb.set_label(\"annual temperature (°C)\")\n",
    "\n",
    "plt.show()"
   ]
  },
  {
   "cell_type": "markdown",
   "id": "c7eb4f77-8d0b-4bf5-81b9-8c7aa33c3f91",
   "metadata": {
    "jp-MarkdownHeadingCollapsed": true
   },
   "source": [
    "### Gridlines"
   ]
  },
  {
   "cell_type": "code",
   "execution_count": null,
   "id": "484125b7-8da8-432e-98eb-6925cc316a6c",
   "metadata": {},
   "outputs": [],
   "source": [
    "# including gridlines for lat and lon\n",
    "\n",
    "fig = plt.figure(figsize=(10, 4))\n",
    "ax = fig.add_subplot(projection=ccrs.Robinson())\n",
    "\n",
    "ax.coastlines()\n",
    "\n",
    "mesh = ax.pcolormesh(surf_lon, surf_lat, surf_temp, cmap=cmo.thermal, transform=ccrs.PlateCarree())\n",
    "cb = fig.colorbar(mesh)\n",
    "cb.set_label(\"annual temperature (°C)\")\n",
    "\n",
    "#### << START NEW CONTENT ####\n",
    "ax.gridlines(\n",
    "    crs=ccrs.PlateCarree(), draw_labels=True,\n",
    "    linewidth=1, color='darkgray', linestyle='--'\n",
    ")\n",
    "#### >> END NEW CONTENT ####\n",
    "\n",
    "plt.show()"
   ]
  },
  {
   "cell_type": "code",
   "execution_count": null,
   "id": "87ccbc23-7f91-411a-bbd2-526a154242e5",
   "metadata": {},
   "outputs": [],
   "source": [
    "# further customize gridline properties\n",
    "# NOTE: the current interface is somewhat buggy....\n",
    "\n",
    "fig = plt.figure(figsize=(10, 4))\n",
    "ax = fig.add_subplot(projection=ccrs.Robinson())\n",
    "\n",
    "ax.coastlines()\n",
    "\n",
    "mesh = ax.pcolormesh(surf_lon, surf_lat, surf_temp, cmap=cmo.thermal, transform=ccrs.PlateCarree())\n",
    "cb = fig.colorbar(mesh)\n",
    "cb.set_label(\"annual temperature (°C)\")\n",
    "\n",
    "#### << START NEW CONTENT ####\n",
    "gl = ax.gridlines(\n",
    "    crs=ccrs.PlateCarree(), draw_labels=True,\n",
    "    linewidth=1, color='darkgray', linestyle='--'\n",
    ")\n",
    "gl.left_labels = True\n",
    "gl.right_labels = False\n",
    "gl.top_labels = True\n",
    "gl.bottom_labels = False\n",
    "gl.xlocator = mticker.FixedLocator([-180, -90, -45, 0, 45, 90, 180])\n",
    "gl.ylocator = mticker.FixedLocator([-60, -30, -15, 0, 15, 30, 60])\n",
    "gl.xformatter = cmgrid.LONGITUDE_FORMATTER\n",
    "gl.yformatter = cmgrid.LATITUDE_FORMATTER\n",
    "gl.xlabel_style = {'size': 10, 'color': 'red'}\n",
    "gl.ylabel_style = {'size': 12, 'color': 'gray', 'weight': 'bold'}\n",
    "#### >> END NEW CONTENT ####\n",
    "\n",
    "plt.show()"
   ]
  },
  {
   "cell_type": "markdown",
   "id": "ef41b7c6-4e4b-4b98-8aee-0c49b0649963",
   "metadata": {
    "jp-MarkdownHeadingCollapsed": true
   },
   "source": [
    "### Exercise 6"
   ]
  },
  {
   "cell_type": "markdown",
   "id": "0cd7b941-a4bc-46a3-8afb-eb290b156b79",
   "metadata": {},
   "source": [
    "_**Code writing #5.**_ xarray and cartopy\n",
    "\n",
    "1. Load mercatorbiomer4v2r1_global_mean_pft_2024_sub.nc in the data folder as a xarray Dataset named `mercatorbio`\n",
    "2. Subset / reduce the Dataset as follows:\n",
    "    1. Look only at the chlorophyll (chl) variable\n",
    "    2. Look only at a depth of (closest to) 40 m\n",
    "    3. Average over all months\n",
    "\n",
    "    Assign the resulting DataArray to the variable `mercator_chl`\n",
    "\n",
    "3. Plot the resulting chlorophyll concentration across the globe using cartopy\n"
   ]
  },
  {
   "cell_type": "code",
   "execution_count": null,
   "id": "d6ee6fef-a929-416f-8797-3c22a37b8a82",
   "metadata": {},
   "outputs": [],
   "source": [
    "# Your code for part 1"
   ]
  },
  {
   "cell_type": "code",
   "execution_count": null,
   "id": "d2cf33a7-be20-4702-a6ab-8950da44eaf5",
   "metadata": {},
   "outputs": [],
   "source": [
    "# Your code for part 2"
   ]
  },
  {
   "cell_type": "code",
   "execution_count": null,
   "id": "dd92eefa-0520-4f60-b5c6-a1661dcbb1a2",
   "metadata": {},
   "outputs": [],
   "source": [
    "# Your code for part 3"
   ]
  }
 ],
 "metadata": {
  "kernelspec": {
   "display_name": "Python 3 (ipykernel)",
   "language": "python",
   "name": "python3"
  },
  "language_info": {
   "codemirror_mode": {
    "name": "ipython",
    "version": 3
   },
   "file_extension": ".py",
   "mimetype": "text/x-python",
   "name": "python",
   "nbconvert_exporter": "python",
   "pygments_lexer": "ipython3",
   "version": "3.12.9"
  }
 },
 "nbformat": 4,
 "nbformat_minor": 5
}
